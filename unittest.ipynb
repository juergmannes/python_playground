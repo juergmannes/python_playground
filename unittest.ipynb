{
 "cells": [
  {
   "cell_type": "code",
   "execution_count": 35,
   "metadata": {},
   "outputs": [],
   "source": [
    "import unittest\n",
    "import re\n",
    "\n",
    "class TestEmailValidator(unittest.TestCase):\n",
    "    def test_email_address(self):\n",
    "        self.assertTrue(EmailValidator.validate('email@example.com'))\n",
    "        self.assertTrue(EmailValidator.validate('firstname.lastname@example.com'))\n",
    "        self.assertTrue(EmailValidator.validate('email@subdomain.example.com'))\n",
    "        self.assertFalse(EmailValidator.validate('plainaddress'))\n",
    "        self.assertFalse(EmailValidator.validate('email@example@example.com'))\n",
    "        self.assertFalse(EmailValidator.validate('@example.com'))\n",
    "        self.assertFalse(EmailValidator.validate('Joe Smith <email@example.com>'))\n",
    "        \n",
    "class EmailValidator:\n",
    "    def validate(email):\n",
    "        pattern = r\"\\\"?([-a-zA-Z0-9.`?{}]+@\\w+\\.\\w+)\\\"?\"\n",
    "        if re.match(pattern, email):\n",
    "            return True\n",
    "        else:\n",
    "            return False   \n"
   ]
  },
  {
   "cell_type": "code",
   "execution_count": 36,
   "metadata": {},
   "outputs": [
    {
     "name": "stderr",
     "output_type": "stream",
     "text": [
      "test_email_address (__main__.TestEmailValidator) ... ok\n",
      "\n",
      "----------------------------------------------------------------------\n",
      "Ran 1 test in 0.001s\n",
      "\n",
      "OK\n"
     ]
    },
    {
     "data": {
      "text/plain": [
       "<unittest.main.TestProgram at 0x158513584e0>"
      ]
     },
     "execution_count": 36,
     "metadata": {},
     "output_type": "execute_result"
    }
   ],
   "source": [
    "unittest.main(argv=[''], verbosity=3, exit=False)"
   ]
  },
  {
   "cell_type": "code",
   "execution_count": null,
   "metadata": {},
   "outputs": [],
   "source": []
  }
 ],
 "metadata": {
  "kernelspec": {
   "display_name": "Python 3",
   "language": "python",
   "name": "python3"
  },
  "language_info": {
   "codemirror_mode": {
    "name": "ipython",
    "version": 3
   },
   "file_extension": ".py",
   "mimetype": "text/x-python",
   "name": "python",
   "nbconvert_exporter": "python",
   "pygments_lexer": "ipython3",
   "version": "3.7.3"
  }
 },
 "nbformat": 4,
 "nbformat_minor": 2
}
