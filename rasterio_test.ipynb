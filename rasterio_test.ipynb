{
 "cells": [
  {
   "cell_type": "code",
   "execution_count": 27,
   "id": "73dbb421",
   "metadata": {},
   "outputs": [],
   "source": [
    "import rasterio\n",
    "import random"
   ]
  },
  {
   "cell_type": "markdown",
   "id": "2d835b9b",
   "metadata": {},
   "source": [
    "Select random points and query a number of tiffs with identical extent to measure performance"
   ]
  },
  {
   "cell_type": "code",
   "execution_count": 40,
   "id": "109543fa",
   "metadata": {},
   "outputs": [],
   "source": [
    "rasterpath = r'C:\\temp\\tif'"
   ]
  },
  {
   "cell_type": "code",
   "execution_count": 47,
   "id": "57c6a989",
   "metadata": {},
   "outputs": [
    {
     "name": "stdout",
     "output_type": "stream",
     "text": [
      "[34, 82, 34, 32, 80, 59, 32, 49, 30, 63, 79, 29, 31, 82, 63, 58, 63, -100, 79, 63, 49, 82, 57, 63, 57, 63, 79, 56]\n",
      "[-100, 70, 63, 51, -100, 51, 63, 63, 76, 68, 51, 29, 63, 70, 76, 74, 62, -100, -100, 63, 63, 74, 30, -100, 63, 64, -100, 74]\n",
      "[66, -100, -100, -100, 33, 66, 33, 66, 61, 29, 33, 65, 33, 30, 29, -100, 29, 65, 30, 33, 30, 33, -100, -100, 65, -100, 30, 30]\n",
      "[-100, -100, -100, 80, -100, 80, -100, -100, 80, -100, -100, -100, -100, -100, -100, 79, -100, -100, -100, -100, -100, -100, -100, 79, -100, 79, -100, -100]\n",
      "[-100, -100, -100, -100, -100, -100, -100, -100, -100, -100, -100, -100, -100, -100, -100, -100, -100, -100, -100, -100, -100, -100, -100, -100, -100, -100, -100, -100]\n",
      "6.57 s ± 0 ns per loop (mean ± std. dev. of 1 run, 5 loops each)\n"
     ]
    }
   ],
   "source": [
    "%%timeit -n 5 -r 1\n",
    "dataset = rasterio.open(rasterpath + '\\\\k21.tif')\n",
    "row = random.randint(0, dataset.height)\n",
    "column = random.randint(0, dataset.width)\n",
    "dataset.close()\n",
    "results = []\n",
    "for i in range(21,49):\n",
    "    filepath = '{0}\\\\k{1}.tif'.format(rasterpath,str(i))\n",
    "    dataset = rasterio.open(filepath)\n",
    "    band1 = dataset.read(1)\n",
    "    results.append(band1[row, column])\n",
    "    dataset.close()\n",
    "print(results)"
   ]
  },
  {
   "cell_type": "code",
   "execution_count": null,
   "id": "2ee5487a",
   "metadata": {},
   "outputs": [],
   "source": []
  }
 ],
 "metadata": {
  "kernelspec": {
   "display_name": "Python 3",
   "language": "python",
   "name": "python3"
  },
  "language_info": {
   "codemirror_mode": {
    "name": "ipython",
    "version": 3
   },
   "file_extension": ".py",
   "mimetype": "text/x-python",
   "name": "python",
   "nbconvert_exporter": "python",
   "pygments_lexer": "ipython3",
   "version": "3.9.2"
  }
 },
 "nbformat": 4,
 "nbformat_minor": 5
}
